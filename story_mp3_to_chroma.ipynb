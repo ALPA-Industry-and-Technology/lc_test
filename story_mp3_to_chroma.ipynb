{
 "cells": [
  {
   "cell_type": "code",
   "execution_count": 4,
   "metadata": {},
   "outputs": [],
   "source": [
    "import whisper"
   ]
  },
  {
   "cell_type": "code",
   "execution_count": 5,
   "metadata": {},
   "outputs": [],
   "source": [
    "model = whisper.load_model(\"base\")"
   ]
  },
  {
   "cell_type": "code",
   "execution_count": 20,
   "metadata": {},
   "outputs": [],
   "source": [
    "result = model.transcribe(\"audio_files/What_is_AI.mp3\")"
   ]
  },
  {
   "cell_type": "code",
   "execution_count": 7,
   "metadata": {},
   "outputs": [
    {
     "data": {
      "text/plain": [
       "\" What is AI? AI stands for artificial intelligence, and it's a way for computers to learn and work kind of like us. You can think of AI as a brain for a computer. Similar to how we use our brains to learn and make decisions, AI uses special computer programs to do the same thing. With AI, computers can help us with the stuff that would be really hard for people to do on their own. They can help doctors diagnose diseases, allow us to predict the weather more accurately, and even play video games. It works by using software to look at lots of information and find patterns. Just like how you can tell the difference between a dog and a cat, AI can learn to recognize things too. There are three main types of AI, supervised, unsupervised, and reinforcement learning. Each type learns in its own special way, but they all use lots of data to get better at what they do. AI is important because it helps us do things faster, more accurately, and sometimes even better than we could on our own. Plus, it can help us solve really complex problems that we might not be able to figure out by ourselves. With AI, the possibilities are endless, from self-driving cars to personal assistance. AI is changing the way we live and work. So the next time you hear about AI, just remember that it's like a smart brain for computers, helping us to solve big problems and do things we never thought possible. To learn more about AI, check out our website at gcfglobal.org. G-C-F Global. Creating opportunities for a better life.\""
      ]
     },
     "execution_count": 7,
     "metadata": {},
     "output_type": "execute_result"
    }
   ],
   "source": [
    "result[\"text\"]"
   ]
  },
  {
   "cell_type": "code",
   "execution_count": 8,
   "metadata": {},
   "outputs": [
    {
     "name": "stdout",
     "output_type": "stream",
     "text": [
      "Transcription saved to test_text.txt\n"
     ]
    }
   ],
   "source": [
    "with open(\"documents/test_text.txt\", \"w\") as text_file:\n",
    "        text_file.write(result[\"text\"])\n",
    "        print(\"Transcription saved to test_text.txt\")"
   ]
  },
  {
   "cell_type": "code",
   "execution_count": 9,
   "metadata": {},
   "outputs": [],
   "source": [
    "import os\n",
    "import warnings\n",
    "\n",
    "from langchain.vectorstores import Chroma\n",
    "from langchain.embeddings import OpenAIEmbeddings\n",
    "from langchain.text_splitter import RecursiveCharacterTextSplitter\n",
    "from langchain.llms import OpenAI\n",
    "from langchain.chains import RetrievalQA\n",
    "from langchain.document_loaders import TextLoader\n",
    "from langchain.document_loaders import DirectoryLoader\n",
    "from langchain.document_loaders import PyPDFLoader\n",
    "\n",
    "from dotenv import load_dotenv\n",
    "\n",
    "# Ignore all warnings (not recommended in production code)\n",
    "warnings.filterwarnings(\"ignore\")"
   ]
  },
  {
   "cell_type": "code",
   "execution_count": 10,
   "metadata": {},
   "outputs": [
    {
     "data": {
      "text/plain": [
       "True"
      ]
     },
     "execution_count": 10,
     "metadata": {},
     "output_type": "execute_result"
    }
   ],
   "source": [
    "load_dotenv()"
   ]
  },
  {
   "cell_type": "code",
   "execution_count": 11,
   "metadata": {},
   "outputs": [],
   "source": [
    "openai_key = os.getenv(\"OPENAI_API_KEY\")\n",
    "huggingface_token = os.getenv(\"HUGGINGFACEHUB_API_TOKEN\")"
   ]
  },
  {
   "cell_type": "code",
   "execution_count": 12,
   "metadata": {},
   "outputs": [],
   "source": [
    "from langchain.text_splitter import TextSplitter\n",
    "from langchain.document_loaders import TextLoader"
   ]
  },
  {
   "cell_type": "code",
   "execution_count": 13,
   "metadata": {},
   "outputs": [],
   "source": [
    "transcript_loader = DirectoryLoader('./documents/', glob=\"./*.txt\", loader_cls=TextLoader)\n",
    "transcript_documents = transcript_loader.load()"
   ]
  },
  {
   "cell_type": "code",
   "execution_count": 14,
   "metadata": {},
   "outputs": [],
   "source": [
    "text_splitter = RecursiveCharacterTextSplitter(chunk_size=500, chunk_overlap=100)\n",
    "text_chunks = text_splitter.split_documents(transcript_documents)"
   ]
  },
  {
   "cell_type": "code",
   "execution_count": 15,
   "metadata": {},
   "outputs": [
    {
     "data": {
      "text/plain": [
       "[Document(page_content='Dear Fellow Scholars, this is Two Minute Papers with Dr. KÃ¡roly Zsolnai-FehÃ©r. Today, we are going to have a look at an image creation AI called Perfusion that is completely out of this world. Imagine a text-to-image AI like Stable Diffusion or Meat Journey as a chef that can cook any dish. However, sometimes, we like the dish we get, but we would like to introduce our own ingredients to it. And normally, if we write a new recipe, a new text prompt, we get a completely new image, a new dish.', metadata={'source': 'documents\\\\NVIDIAs_New_AI_Text_To_Image_Supercharged.txt'}),\n",
       " Document(page_content=\"normally, if we write a new recipe, a new text prompt, we get a completely new image, a new dish. However, that is not what we want. What we want is the previous dish with a new ingredient. Let's have a look at an example. We have photos of our favorite teddy bear, and we would like it to create an image of it playing with a ball in the water. A previous technique doesâ€¦uh-oh. I have already looked at this image, and I have bad news. It's not going to be pretty. Are you ready? Okay, here you\", metadata={'source': 'documents\\\\NVIDIAs_New_AI_Text_To_Image_Supercharged.txt'}),\n",
       " Document(page_content=\"at this image, and I have bad news. It's not going to be pretty. Are you ready? Okay, here you go! Whoa! It seems to have fallen apart, and there is no ball anywhere to be seen. Now, let's look at the new technique. Now that's what I call a great result! Love it! However, this is an emerging research field, so of course, this is not the only previous technique out there. Let's take this adorable cat. Yes, this cat is missing a pair of headphones. So let's add it with another previous technique,\", metadata={'source': 'documents\\\\NVIDIAs_New_AI_Text_To_Image_Supercharged.txt'}),\n",
       " Document(page_content=\"Yes, this cat is missing a pair of headphones. So let's add it with another previous technique, andâ€¦nothing. Look, at least I see the remnants of some crazy thoughts this earlier AI has about headphones. It sees them more as yo-yos. Now, the new technique. Oh yes! Fantastic! And of course, the new technique knows that you can never wear enough headphones, soâ€¦there we go! So cool! So this new paper finally enables this kind of personalization with something that they call concepts. What is\", metadata={'source': 'documents\\\\NVIDIAs_New_AI_Text_To_Image_Supercharged.txt'}),\n",
       " Document(page_content=\"paper finally enables this kind of personalization with something that they call concepts. What is that? That is the AI Chef's cookbook. Having a teddy bear dressed like a wizard can be a concept, a sombrero can be a concept, all of these can be concepts. And here come four incredible kickers. One, as many of you Fellow Scholars know, some people like pineapple on their pizzas. And some people like eggs on their pizzas. Well, here is the kicker. It can fuse concepts together as well. This is an\", metadata={'source': 'documents\\\\NVIDIAs_New_AI_Text_To_Image_Supercharged.txt'}),\n",
       " Document(page_content=\"eggs on their pizzas. Well, here is the kicker. It can fuse concepts together as well. This is an AI that can make that pizza happen with pineapple and eggs at the same time, but without sacrificing the quality of the food. Now that sounds like a huge challenge. Let's have a look. First, take a teddy bear and a teapot. Then, ask this little AI to dress up the teddy bear and upgrade the teapot to have a cartoonish look. And now comes the magic. Let concept number one, teddy bear fuse with\", metadata={'source': 'documents\\\\NVIDIAs_New_AI_Text_To_Image_Supercharged.txt'}),\n",
       " Document(page_content='to have a cartoonish look. And now comes the magic. Let concept number one, teddy bear fuse with concept number two, the teapot. And there we go! Wow! And that is not any teapot, that is exactly that teapot. The same objects can be reused. With this new paper, we can not only perform text to image, but we can build these little worlds exactly the way we want. This AI Chef feels like it can cook anything. We can keep our characters and add our personal touch to them without losing these', metadata={'source': 'documents\\\\NVIDIAs_New_AI_Text_To_Image_Supercharged.txt'}),\n",
       " Document(page_content='cook anything. We can keep our characters and add our personal touch to them without losing these characters. They also provided a little taste test, a user study where a bunch of humans were asked which examples they liked best, and it came out that they not only liked this new perfusion technique the most, I have to say, I expected that at this point. But they also found something that I did not expect at all. Get this, the new personalized images were found to be almost indistinguishable in', metadata={'source': 'documents\\\\NVIDIAs_New_AI_Text_To_Image_Supercharged.txt'}),\n",
       " Document(page_content='expect at all. Get this, the new personalized images were found to be almost indistinguishable in terms of quality from the original. Wow! And finally, number four, all this is done through rank one edits to the neural network. What is that? That is a proper surgical approach. This means that it introduces minimal changes to the neural activations of the neural network to achieve all of these changes, and that is likely why we are not losing out on the quality of the image. This is an', metadata={'source': 'documents\\\\NVIDIAs_New_AI_Text_To_Image_Supercharged.txt'}),\n",
       " Document(page_content='these changes, and that is likely why we are not losing out on the quality of the image. This is an incredible feat. Bravo, NVIDIA! Yes, 199. And they are one of the first cloud providers to offer publicly available on-demand H100 access. Did I mention they also offer persistent storage? So, join researchers at organizations like Apple, MIT, and Caltech in using Lambda Cloud instances, workstations, or servers. Make sure to go to lambdalabs.com slash papers to sign up for one of their amazing', metadata={'source': 'documents\\\\NVIDIAs_New_AI_Text_To_Image_Supercharged.txt'}),\n",
       " Document(page_content=\"or servers. Make sure to go to lambdalabs.com slash papers to sign up for one of their amazing GPU instances today. Thanks for watching and for your generous support, and I'll see you next time!\", metadata={'source': 'documents\\\\NVIDIAs_New_AI_Text_To_Image_Supercharged.txt'}),\n",
       " Document(page_content=\"What is AI? AI stands for artificial intelligence, and it's a way for computers to learn and work kind of like us. You can think of AI as a brain for a computer. Similar to how we use our brains to learn and make decisions, AI uses special computer programs to do the same thing. With AI, computers can help us with the stuff that would be really hard for people to do on their own. They can help doctors diagnose diseases, allow us to predict the weather more accurately, and even play video games.\", metadata={'source': 'documents\\\\test_text.txt'}),\n",
       " Document(page_content='diagnose diseases, allow us to predict the weather more accurately, and even play video games. It works by using software to look at lots of information and find patterns. Just like how you can tell the difference between a dog and a cat, AI can learn to recognize things too. There are three main types of AI, supervised, unsupervised, and reinforcement learning. Each type learns in its own special way, but they all use lots of data to get better at what they do. AI is important because it helps', metadata={'source': 'documents\\\\test_text.txt'}),\n",
       " Document(page_content=\"way, but they all use lots of data to get better at what they do. AI is important because it helps us do things faster, more accurately, and sometimes even better than we could on our own. Plus, it can help us solve really complex problems that we might not be able to figure out by ourselves. With AI, the possibilities are endless, from self-driving cars to personal assistance. AI is changing the way we live and work. So the next time you hear about AI, just remember that it's like a smart\", metadata={'source': 'documents\\\\test_text.txt'}),\n",
       " Document(page_content=\"the way we live and work. So the next time you hear about AI, just remember that it's like a smart brain for computers, helping us to solve big problems and do things we never thought possible. To learn more about AI, check out our website at gcfglobal.org. G-C-F Global. Creating opportunities for a better life.\", metadata={'source': 'documents\\\\test_text.txt'})]"
      ]
     },
     "execution_count": 15,
     "metadata": {},
     "output_type": "execute_result"
    }
   ],
   "source": [
    "text_chunks"
   ]
  },
  {
   "cell_type": "code",
   "execution_count": 16,
   "metadata": {},
   "outputs": [],
   "source": [
    "## here we are using OpenAI embeddings but in future we will swap out to something else\n",
    "embedding = OpenAIEmbeddings()\n",
    "persist_directory = 'db'\n",
    "\n",
    "# Batch chunk embedding + insert to DB\n",
    "vectordb = Chroma.from_documents(documents=text_chunks, \n",
    "                                 embedding=embedding,\n",
    "                                 persist_directory=persist_directory)"
   ]
  }
 ],
 "metadata": {
  "kernelspec": {
   "display_name": ".langchain_venv",
   "language": "python",
   "name": "python3"
  },
  "language_info": {
   "codemirror_mode": {
    "name": "ipython",
    "version": 3
   },
   "file_extension": ".py",
   "mimetype": "text/x-python",
   "name": "python",
   "nbconvert_exporter": "python",
   "pygments_lexer": "ipython3",
   "version": "3.11.3"
  },
  "orig_nbformat": 4
 },
 "nbformat": 4,
 "nbformat_minor": 2
}
